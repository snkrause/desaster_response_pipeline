{
 "cells": [
  {
   "cell_type": "markdown",
   "metadata": {},
   "source": [
    "# ML Pipeline Preparation\n",
    "Follow the instructions below to help you create your ML pipeline.\n",
    "### 1. Import libraries and load data from database.\n",
    "- Import Python libraries\n",
    "- Load dataset from database with [`read_sql_table`](https://pandas.pydata.org/pandas-docs/stable/generated/pandas.read_sql_table.html)\n",
    "- Define feature and target variables X and Y"
   ]
  },
  {
   "cell_type": "code",
   "execution_count": 1,
   "metadata": {},
   "outputs": [],
   "source": [
    "# import libraries\n",
    "import re\n",
    "import pandas as pd\n",
    "import numpy as np\n",
    "from sqlalchemy import create_engine\n",
    "import pickle\n",
    "from nltk.tokenize import word_tokenize\n",
    "from nltk.stem.wordnet import WordNetLemmatizer\n",
    "from nltk.corpus import stopwords\n",
    "from sklearn.feature_extraction.text import CountVectorizer, TfidfTransformer\n",
    "from sklearn.pipeline import Pipeline\n",
    "from sklearn.multioutput import MultiOutputClassifier\n",
    "from sklearn.model_selection import train_test_split\n",
    "from sklearn.metrics import classification_report, make_scorer\n",
    "from sklearn.model_selection import GridSearchCV\n",
    "from sklearn.metrics import confusion_matrix\n",
    "#classifiers\n",
    "from sklearn.neighbors import KNeighborsClassifier\n",
    "from sklearn.tree import DecisionTreeClassifier\n",
    "from sklearn.ensemble import RandomForestClassifier, AdaBoostClassifier\n",
    "from sklearn.naive_bayes import MultinomialNB"
   ]
  },
  {
   "cell_type": "code",
   "execution_count": 20,
   "metadata": {
    "scrolled": true
   },
   "outputs": [
    {
     "data": {
      "text/plain": [
       "(19763, 39)"
      ]
     },
     "execution_count": 20,
     "metadata": {},
     "output_type": "execute_result"
    }
   ],
   "source": [
    "# load data from database\n",
    "engine = create_engine('sqlite:///../data/DisasterResponse.db')\n",
    "df = pd.read_sql_table('messages',engine)\n",
    "df.shape"
   ]
  },
  {
   "cell_type": "code",
   "execution_count": 8,
   "metadata": {},
   "outputs": [],
   "source": [
    "#prepare feature and classes as arrays\n",
    "X = df['message'].values\n",
    "Y = df[df.columns[4:39]].values"
   ]
  },
  {
   "cell_type": "markdown",
   "metadata": {},
   "source": [
    "### 2. Write a tokenization function to process your text data"
   ]
  },
  {
   "cell_type": "code",
   "execution_count": 9,
   "metadata": {},
   "outputs": [],
   "source": [
    "def tokenize(text):\n",
    "    \n",
    "    # Normalize text\n",
    "    text = re.sub(r\"[^a-zA-Z0-9]\", \" \",text)\n",
    "\n",
    "    # tokenize text\n",
    "    tokens = word_tokenize(text)\n",
    "    \n",
    "    # Remove stop words\n",
    "    tokens = [w for w in tokens if w not in stopwords.words(\"english\")]\n",
    "    \n",
    "    # initiate lemmatizer\n",
    "    lemmatizer = WordNetLemmatizer()\n",
    "\n",
    "    # iterate through each token\n",
    "    clean_tokens = []\n",
    "    for tok in tokens:\n",
    "        \n",
    "        # lemmatize, normalize case, and remove leading/trailing white space\n",
    "        clean_tok = lemmatizer.lemmatize(tok).lower().strip()\n",
    "        clean_tokens.append(clean_tok)\n",
    "\n",
    "    return clean_tokens"
   ]
  },
  {
   "cell_type": "markdown",
   "metadata": {},
   "source": [
    "### 3. Build a machine learning pipeline\n",
    "This machine pipeline should take in the `message` column as input and output classification results on the other 36 categories in the dataset. You may find the [MultiOutputClassifier](http://scikit-learn.org/stable/modules/generated/sklearn.multioutput.MultiOutputClassifier.html) helpful for predicting multiple target variables."
   ]
  },
  {
   "cell_type": "code",
   "execution_count": 51,
   "metadata": {},
   "outputs": [],
   "source": [
    "pipeline = Pipeline([\n",
    "        ('vect',CountVectorizer(tokenizer=tokenize)),\n",
    "        ('tfidf',TfidfTransformer()),\n",
    "        ('clf',MultiOutputClassifier(estimator=DecisionTreeClassifier(splitter='random', criterion='entropy')))\n",
    "    ])     "
   ]
  },
  {
   "cell_type": "markdown",
   "metadata": {},
   "source": [
    "### 4. Train pipeline\n",
    "- Split data into train and test sets\n",
    "- Train pipeline"
   ]
  },
  {
   "cell_type": "code",
   "execution_count": 52,
   "metadata": {},
   "outputs": [],
   "source": [
    "X_train, X_test, Y_train, Y_test = train_test_split(X, Y, test_size = .30, random_state=42)"
   ]
  },
  {
   "cell_type": "code",
   "execution_count": 53,
   "metadata": {},
   "outputs": [
    {
     "data": {
      "text/plain": [
       "Pipeline(steps=[('vect',\n",
       "                 CountVectorizer(tokenizer=<function tokenize at 0x0000026F7FFDA168>)),\n",
       "                ('tfidf', TfidfTransformer()),\n",
       "                ('clf',\n",
       "                 MultiOutputClassifier(estimator=DecisionTreeClassifier(criterion='entropy',\n",
       "                                                                        splitter='random')))])"
      ]
     },
     "execution_count": 53,
     "metadata": {},
     "output_type": "execute_result"
    }
   ],
   "source": [
    "pipeline.fit(X_train, Y_train)"
   ]
  },
  {
   "cell_type": "markdown",
   "metadata": {},
   "source": [
    "### 5. Test your model\n",
    "Report the f1 score, precision and recall for each output category of the dataset. You can do this by iterating through the columns and calling sklearn's `classification_report` on each."
   ]
  },
  {
   "cell_type": "code",
   "execution_count": 54,
   "metadata": {},
   "outputs": [],
   "source": [
    "Y_pred=pipeline.predict(X_test)"
   ]
  },
  {
   "cell_type": "code",
   "execution_count": 55,
   "metadata": {
    "scrolled": false
   },
   "outputs": [
    {
     "name": "stdout",
     "output_type": "stream",
     "text": [
      "avg_precision:0.14421157329130604, avg_f1-score:0.1335594282084125\n"
     ]
    }
   ],
   "source": [
    "f1_score=[]\n",
    "precision=[]\n",
    "classif=[]\n",
    "for n in range(Y_pred.shape[1]):\n",
    "    try:\n",
    "        s=classification_report(Y_test[:,n], Y_pred[:,n],output_dict=True)\n",
    "        classif.append(df.columns[n+4])\n",
    "        precision.append(s['1.0']['precision'])\n",
    "        f1_score.append(s['1.0']['f1-score'])\n",
    "    except:\n",
    "        print(df.columns[n+4]+' does not have a 1')\n",
    "        continue\n",
    "results=pd.DataFrame(classif,columns=['classifier'])\n",
    "results['precision']=precision\n",
    "results['f1-score']=f1_score\n",
    "results['model']=\"DecisionTree\"\n",
    "\n",
    "print('avg_precision:'+str(sum(precision)/len(precision))+', avg_f1-score:'+str(sum(f1_score)/len(f1_score)))"
   ]
  },
  {
   "cell_type": "code",
   "execution_count": 56,
   "metadata": {},
   "outputs": [],
   "source": [
    "results.to_excel(\"results_DecisionTree.xlsx\", index=False)"
   ]
  },
  {
   "cell_type": "code",
   "execution_count": 57,
   "metadata": {},
   "outputs": [
    {
     "data": {
      "text/html": [
       "<div>\n",
       "<style scoped>\n",
       "    .dataframe tbody tr th:only-of-type {\n",
       "        vertical-align: middle;\n",
       "    }\n",
       "\n",
       "    .dataframe tbody tr th {\n",
       "        vertical-align: top;\n",
       "    }\n",
       "\n",
       "    .dataframe thead th {\n",
       "        text-align: right;\n",
       "    }\n",
       "</style>\n",
       "<table border=\"1\" class=\"dataframe\">\n",
       "  <thead>\n",
       "    <tr style=\"text-align: right;\">\n",
       "      <th></th>\n",
       "      <th>classifier</th>\n",
       "      <th>precision</th>\n",
       "      <th>f1-score</th>\n",
       "      <th>model</th>\n",
       "    </tr>\n",
       "  </thead>\n",
       "  <tbody>\n",
       "    <tr>\n",
       "      <th>0</th>\n",
       "      <td>related</td>\n",
       "      <td>1.000000</td>\n",
       "      <td>1.000000</td>\n",
       "      <td>DecisionTree</td>\n",
       "    </tr>\n",
       "    <tr>\n",
       "      <th>1</th>\n",
       "      <td>request</td>\n",
       "      <td>0.404762</td>\n",
       "      <td>0.404141</td>\n",
       "      <td>DecisionTree</td>\n",
       "    </tr>\n",
       "    <tr>\n",
       "      <th>2</th>\n",
       "      <td>offer</td>\n",
       "      <td>0.000000</td>\n",
       "      <td>0.000000</td>\n",
       "      <td>DecisionTree</td>\n",
       "    </tr>\n",
       "    <tr>\n",
       "      <th>3</th>\n",
       "      <td>aid_related</td>\n",
       "      <td>0.545426</td>\n",
       "      <td>0.543619</td>\n",
       "      <td>DecisionTree</td>\n",
       "    </tr>\n",
       "    <tr>\n",
       "      <th>4</th>\n",
       "      <td>medical_help</td>\n",
       "      <td>0.094170</td>\n",
       "      <td>0.080692</td>\n",
       "      <td>DecisionTree</td>\n",
       "    </tr>\n",
       "    <tr>\n",
       "      <th>5</th>\n",
       "      <td>medical_products</td>\n",
       "      <td>0.062731</td>\n",
       "      <td>0.052960</td>\n",
       "      <td>DecisionTree</td>\n",
       "    </tr>\n",
       "    <tr>\n",
       "      <th>6</th>\n",
       "      <td>search_and_rescue</td>\n",
       "      <td>0.030534</td>\n",
       "      <td>0.023599</td>\n",
       "      <td>DecisionTree</td>\n",
       "    </tr>\n",
       "    <tr>\n",
       "      <th>7</th>\n",
       "      <td>security</td>\n",
       "      <td>0.037037</td>\n",
       "      <td>0.027907</td>\n",
       "      <td>DecisionTree</td>\n",
       "    </tr>\n",
       "    <tr>\n",
       "      <th>8</th>\n",
       "      <td>military</td>\n",
       "      <td>0.042857</td>\n",
       "      <td>0.029777</td>\n",
       "      <td>DecisionTree</td>\n",
       "    </tr>\n",
       "    <tr>\n",
       "      <th>9</th>\n",
       "      <td>water</td>\n",
       "      <td>0.094463</td>\n",
       "      <td>0.070218</td>\n",
       "      <td>DecisionTree</td>\n",
       "    </tr>\n",
       "    <tr>\n",
       "      <th>10</th>\n",
       "      <td>food</td>\n",
       "      <td>0.158974</td>\n",
       "      <td>0.127835</td>\n",
       "      <td>DecisionTree</td>\n",
       "    </tr>\n",
       "    <tr>\n",
       "      <th>11</th>\n",
       "      <td>shelter</td>\n",
       "      <td>0.116327</td>\n",
       "      <td>0.095638</td>\n",
       "      <td>DecisionTree</td>\n",
       "    </tr>\n",
       "    <tr>\n",
       "      <th>12</th>\n",
       "      <td>clothing</td>\n",
       "      <td>0.040000</td>\n",
       "      <td>0.029126</td>\n",
       "      <td>DecisionTree</td>\n",
       "    </tr>\n",
       "    <tr>\n",
       "      <th>13</th>\n",
       "      <td>money</td>\n",
       "      <td>0.046729</td>\n",
       "      <td>0.035211</td>\n",
       "      <td>DecisionTree</td>\n",
       "    </tr>\n",
       "    <tr>\n",
       "      <th>14</th>\n",
       "      <td>missing_people</td>\n",
       "      <td>0.021739</td>\n",
       "      <td>0.014493</td>\n",
       "      <td>DecisionTree</td>\n",
       "    </tr>\n",
       "    <tr>\n",
       "      <th>15</th>\n",
       "      <td>refugees</td>\n",
       "      <td>0.023952</td>\n",
       "      <td>0.019185</td>\n",
       "      <td>DecisionTree</td>\n",
       "    </tr>\n",
       "    <tr>\n",
       "      <th>16</th>\n",
       "      <td>death</td>\n",
       "      <td>0.074236</td>\n",
       "      <td>0.061041</td>\n",
       "      <td>DecisionTree</td>\n",
       "    </tr>\n",
       "    <tr>\n",
       "      <th>17</th>\n",
       "      <td>other_aid</td>\n",
       "      <td>0.187891</td>\n",
       "      <td>0.186819</td>\n",
       "      <td>DecisionTree</td>\n",
       "    </tr>\n",
       "    <tr>\n",
       "      <th>18</th>\n",
       "      <td>infrastructure_related</td>\n",
       "      <td>0.071197</td>\n",
       "      <td>0.055626</td>\n",
       "      <td>DecisionTree</td>\n",
       "    </tr>\n",
       "    <tr>\n",
       "      <th>19</th>\n",
       "      <td>transport</td>\n",
       "      <td>0.079167</td>\n",
       "      <td>0.064407</td>\n",
       "      <td>DecisionTree</td>\n",
       "    </tr>\n",
       "    <tr>\n",
       "      <th>20</th>\n",
       "      <td>buildings</td>\n",
       "      <td>0.045000</td>\n",
       "      <td>0.044720</td>\n",
       "      <td>DecisionTree</td>\n",
       "    </tr>\n",
       "    <tr>\n",
       "      <th>21</th>\n",
       "      <td>electricity</td>\n",
       "      <td>0.052083</td>\n",
       "      <td>0.040323</td>\n",
       "      <td>DecisionTree</td>\n",
       "    </tr>\n",
       "    <tr>\n",
       "      <th>22</th>\n",
       "      <td>tools</td>\n",
       "      <td>0.043478</td>\n",
       "      <td>0.028986</td>\n",
       "      <td>DecisionTree</td>\n",
       "    </tr>\n",
       "    <tr>\n",
       "      <th>23</th>\n",
       "      <td>hospitals</td>\n",
       "      <td>0.013889</td>\n",
       "      <td>0.014493</td>\n",
       "      <td>DecisionTree</td>\n",
       "    </tr>\n",
       "    <tr>\n",
       "      <th>24</th>\n",
       "      <td>shops</td>\n",
       "      <td>0.000000</td>\n",
       "      <td>0.000000</td>\n",
       "      <td>DecisionTree</td>\n",
       "    </tr>\n",
       "    <tr>\n",
       "      <th>25</th>\n",
       "      <td>aid_centers</td>\n",
       "      <td>0.000000</td>\n",
       "      <td>0.000000</td>\n",
       "      <td>DecisionTree</td>\n",
       "    </tr>\n",
       "    <tr>\n",
       "      <th>26</th>\n",
       "      <td>other_infrastructure</td>\n",
       "      <td>0.064815</td>\n",
       "      <td>0.052336</td>\n",
       "      <td>DecisionTree</td>\n",
       "    </tr>\n",
       "    <tr>\n",
       "      <th>27</th>\n",
       "      <td>weather_related</td>\n",
       "      <td>0.458571</td>\n",
       "      <td>0.449790</td>\n",
       "      <td>DecisionTree</td>\n",
       "    </tr>\n",
       "    <tr>\n",
       "      <th>28</th>\n",
       "      <td>floods</td>\n",
       "      <td>0.174138</td>\n",
       "      <td>0.164094</td>\n",
       "      <td>DecisionTree</td>\n",
       "    </tr>\n",
       "    <tr>\n",
       "      <th>29</th>\n",
       "      <td>storm</td>\n",
       "      <td>0.260274</td>\n",
       "      <td>0.211952</td>\n",
       "      <td>DecisionTree</td>\n",
       "    </tr>\n",
       "    <tr>\n",
       "      <th>30</th>\n",
       "      <td>fire</td>\n",
       "      <td>0.019608</td>\n",
       "      <td>0.017094</td>\n",
       "      <td>DecisionTree</td>\n",
       "    </tr>\n",
       "    <tr>\n",
       "      <th>31</th>\n",
       "      <td>earthquake</td>\n",
       "      <td>0.308530</td>\n",
       "      <td>0.268775</td>\n",
       "      <td>DecisionTree</td>\n",
       "    </tr>\n",
       "    <tr>\n",
       "      <th>32</th>\n",
       "      <td>cold</td>\n",
       "      <td>0.023256</td>\n",
       "      <td>0.017467</td>\n",
       "      <td>DecisionTree</td>\n",
       "    </tr>\n",
       "    <tr>\n",
       "      <th>33</th>\n",
       "      <td>other_weather</td>\n",
       "      <td>0.072917</td>\n",
       "      <td>0.061404</td>\n",
       "      <td>DecisionTree</td>\n",
       "    </tr>\n",
       "    <tr>\n",
       "      <th>34</th>\n",
       "      <td>direct_report</td>\n",
       "      <td>0.378654</td>\n",
       "      <td>0.380855</td>\n",
       "      <td>DecisionTree</td>\n",
       "    </tr>\n",
       "  </tbody>\n",
       "</table>\n",
       "</div>"
      ],
      "text/plain": [
       "                classifier  precision  f1-score         model\n",
       "0                  related   1.000000  1.000000  DecisionTree\n",
       "1                  request   0.404762  0.404141  DecisionTree\n",
       "2                    offer   0.000000  0.000000  DecisionTree\n",
       "3              aid_related   0.545426  0.543619  DecisionTree\n",
       "4             medical_help   0.094170  0.080692  DecisionTree\n",
       "5         medical_products   0.062731  0.052960  DecisionTree\n",
       "6        search_and_rescue   0.030534  0.023599  DecisionTree\n",
       "7                 security   0.037037  0.027907  DecisionTree\n",
       "8                 military   0.042857  0.029777  DecisionTree\n",
       "9                    water   0.094463  0.070218  DecisionTree\n",
       "10                    food   0.158974  0.127835  DecisionTree\n",
       "11                 shelter   0.116327  0.095638  DecisionTree\n",
       "12                clothing   0.040000  0.029126  DecisionTree\n",
       "13                   money   0.046729  0.035211  DecisionTree\n",
       "14          missing_people   0.021739  0.014493  DecisionTree\n",
       "15                refugees   0.023952  0.019185  DecisionTree\n",
       "16                   death   0.074236  0.061041  DecisionTree\n",
       "17               other_aid   0.187891  0.186819  DecisionTree\n",
       "18  infrastructure_related   0.071197  0.055626  DecisionTree\n",
       "19               transport   0.079167  0.064407  DecisionTree\n",
       "20               buildings   0.045000  0.044720  DecisionTree\n",
       "21             electricity   0.052083  0.040323  DecisionTree\n",
       "22                   tools   0.043478  0.028986  DecisionTree\n",
       "23               hospitals   0.013889  0.014493  DecisionTree\n",
       "24                   shops   0.000000  0.000000  DecisionTree\n",
       "25             aid_centers   0.000000  0.000000  DecisionTree\n",
       "26    other_infrastructure   0.064815  0.052336  DecisionTree\n",
       "27         weather_related   0.458571  0.449790  DecisionTree\n",
       "28                  floods   0.174138  0.164094  DecisionTree\n",
       "29                   storm   0.260274  0.211952  DecisionTree\n",
       "30                    fire   0.019608  0.017094  DecisionTree\n",
       "31              earthquake   0.308530  0.268775  DecisionTree\n",
       "32                    cold   0.023256  0.017467  DecisionTree\n",
       "33           other_weather   0.072917  0.061404  DecisionTree\n",
       "34           direct_report   0.378654  0.380855  DecisionTree"
      ]
     },
     "execution_count": 57,
     "metadata": {},
     "output_type": "execute_result"
    }
   ],
   "source": [
    "results"
   ]
  },
  {
   "cell_type": "markdown",
   "metadata": {},
   "source": [
    "### 6. Improve your model\n",
    "Use grid search to find better parameters. "
   ]
  },
  {
   "cell_type": "code",
   "execution_count": 59,
   "metadata": {},
   "outputs": [],
   "source": [
    "parameters = {\n",
    "            'tfidf__smooth_idf': (True,False),\n",
    "            'tfidf__sublinear_tf': (True,False),\n",
    "            'tfidf__use_idf': (True,False)\n",
    "}\n",
    "\n",
    "scorers = {\n",
    "    'precision_score': make_scorer(precision),\n",
    "    'f1_score': make_scorer(f1_score)\n",
    "}"
   ]
  },
  {
   "cell_type": "code",
   "execution_count": null,
   "metadata": {},
   "outputs": [
    {
     "name": "stdout",
     "output_type": "stream",
     "text": [
      "Fitting 2 folds for each of 8 candidates, totalling 16 fits\n"
     ]
    }
   ],
   "source": [
    "cv = GridSearchCV(pipeline, parameters, return_train_score=scorers, cv=2, verbose=3)\n",
    "cv.fit(X, Y)"
   ]
  },
  {
   "cell_type": "code",
   "execution_count": null,
   "metadata": {},
   "outputs": [],
   "source": [
    "pd.DataFrame(cv.cv_results_).to_excel(\"optimized_tfidf.xlsx\", index=False)"
   ]
  },
  {
   "cell_type": "markdown",
   "metadata": {},
   "source": [
    "### 7. Test your model\n",
    "Show the accuracy, precision, and recall of the tuned model.  \n",
    "\n",
    "Since this project focuses on code quality, process, and  pipelines, there is no minimum performance metric needed to pass. However, make sure to fine tune your models for accuracy, precision and recall to make your project stand out - especially for your portfolio!"
   ]
  },
  {
   "cell_type": "code",
   "execution_count": null,
   "metadata": {},
   "outputs": [],
   "source": [
    "print(pd.DataFrame(cv.cv_results_))"
   ]
  },
  {
   "cell_type": "code",
   "execution_count": null,
   "metadata": {},
   "outputs": [],
   "source": []
  }
 ],
 "metadata": {
  "kernelspec": {
   "display_name": "Python 3",
   "language": "python",
   "name": "python3"
  },
  "language_info": {
   "codemirror_mode": {
    "name": "ipython",
    "version": 3
   },
   "file_extension": ".py",
   "mimetype": "text/x-python",
   "name": "python",
   "nbconvert_exporter": "python",
   "pygments_lexer": "ipython3",
   "version": "3.7.10"
  }
 },
 "nbformat": 4,
 "nbformat_minor": 2
}
